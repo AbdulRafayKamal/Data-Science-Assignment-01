{
 "cells": [
  {
   "cell_type": "code",
   "execution_count": 1,
   "id": "9de1b285",
   "metadata": {},
   "outputs": [
    {
     "name": "stdout",
     "output_type": "stream",
     "text": [
      "Twinkke, twinklem little star, \n",
      "\n",
      "\t How I wonder what you are, \n",
      "\n",
      "\t\t Up above the world so high, \n",
      "\n",
      "\t\t Like a diamond in the sky. \n",
      "\n",
      "Twinkke, twinklem little star, \n",
      "\n",
      "\t How I wonder what you are, \n",
      "\n"
     ]
    }
   ],
   "source": [
    "print(\"Twinkke, twinklem little star, \\n\")\n",
    "print(\"\\t How I wonder what you are, \\n\")\n",
    "print(\"\\t\\t Up above the world so high, \\n\")\n",
    "print(\"\\t\\t Like a diamond in the sky. \\n\")\n",
    "print(\"Twinkke, twinklem little star, \\n\")\n",
    "print(\"\\t How I wonder what you are, \\n\")"
   ]
  },
  {
   "cell_type": "code",
   "execution_count": 2,
   "id": "0d37c598",
   "metadata": {},
   "outputs": [
    {
     "name": "stdout",
     "output_type": "stream",
     "text": [
      "3.9.7 (default, Sep 16 2021, 16:59:28) [MSC v.1916 64 bit (AMD64)]\n"
     ]
    }
   ],
   "source": [
    "import sys\n",
    "print(sys.version)"
   ]
  },
  {
   "cell_type": "code",
   "execution_count": 3,
   "id": "eeabb86e",
   "metadata": {},
   "outputs": [
    {
     "name": "stdout",
     "output_type": "stream",
     "text": [
      "now = 2022-01-01 21:58:30.587939\n",
      "date and time = 01/01/2022 21:58:30\n"
     ]
    }
   ],
   "source": [
    "from datetime import datetime\n",
    "\n",
    "now = datetime.now()\n",
    "print(\"now =\", now)\n",
    "\n",
    "# dd/mm/YY H:M:S\n",
    "dt_string = now.strftime(\"%d/%m/%Y %H:%M:%S\")\n",
    "print(\"date and time =\", dt_string)"
   ]
  },
  {
   "cell_type": "code",
   "execution_count": 4,
   "id": "8b684981",
   "metadata": {},
   "outputs": [
    {
     "name": "stdout",
     "output_type": "stream",
     "text": [
      "Enter radius of circle : 22\n",
      "Area of the circle is: 1520.53084433746\n"
     ]
    }
   ],
   "source": [
    "from math import pi\n",
    "\n",
    "r = float(input (\"Enter radius of circle : \"))\n",
    "\n",
    "print (\"Area of the circle is: \" + str(pi * r**2))"
   ]
  },
  {
   "cell_type": "code",
   "execution_count": 5,
   "id": "5c5a121c",
   "metadata": {},
   "outputs": [
    {
     "name": "stdout",
     "output_type": "stream",
     "text": [
      "Input your First Name : Abdul\n",
      "Input your Last Name : Rafay\n",
      "Rafay Abdul\n"
     ]
    }
   ],
   "source": [
    "fname = input(\"Input your First Name : \")\n",
    "lname = input(\"Input your Last Name : \")\n",
    "print (lname + \" \" + fname)"
   ]
  },
  {
   "cell_type": "code",
   "execution_count": 6,
   "id": "8253673e",
   "metadata": {},
   "outputs": [
    {
     "name": "stdout",
     "output_type": "stream",
     "text": [
      "Enter First Number : 5\n",
      "Enter Second number : 10\n",
      "Addition result of x and y is :  15\n"
     ]
    }
   ],
   "source": [
    "x = int(input(\"Enter First Number : \"))\n",
    "y = int(input(\"Enter Second number : \"))\n",
    " \n",
    "sum = x + y\n",
    " \n",
    "print(\"Addition result of x and y is : \", sum)"
   ]
  },
  {
   "cell_type": "code",
   "execution_count": null,
   "id": "b66fe137",
   "metadata": {},
   "outputs": [],
   "source": []
  }
 ],
 "metadata": {
  "kernelspec": {
   "display_name": "Python 3 (ipykernel)",
   "language": "python",
   "name": "python3"
  },
  "language_info": {
   "codemirror_mode": {
    "name": "ipython",
    "version": 3
   },
   "file_extension": ".py",
   "mimetype": "text/x-python",
   "name": "python",
   "nbconvert_exporter": "python",
   "pygments_lexer": "ipython3",
   "version": "3.9.7"
  }
 },
 "nbformat": 4,
 "nbformat_minor": 5
}
